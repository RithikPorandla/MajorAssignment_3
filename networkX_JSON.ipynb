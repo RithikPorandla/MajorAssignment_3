{
  "cells": [
    {
      "cell_type": "code",
      "execution_count": 2,
      "metadata": {
        "id": "0Kydo4tpQg8j"
      },
      "outputs": [],
      "source": [
        "import pandas as pd\n",
        "import networkx as nx\n",
        "import json\n",
        "from networkx.readwrite import json_graph\n",
        "\n",
        "# Read the CSV data\n",
        "data = pd.read_csv(\"./data/data_scopus.csv\")\n",
        "\n",
        "# Drop unnecessary columns and remove rows with missing values\n",
        "columns_to_remove = ['Abstract', 'Conference name', 'Conference date', 'Abbreviated Source Title']\n",
        "data.drop(columns=columns_to_remove, inplace=True)\n",
        "data = data.dropna(subset=['Authors', 'Authors with affiliations', 'Year', 'Publisher'])\n",
        "\n",
        "# Fill NaN values in the 'Cited by' column with 0\n",
        "data['Cited by'].fillna(0, inplace=True)\n",
        "\n",
        "# Function to get the first author's affiliation country\n",
        "def get_first_author_affiliation(x):\n",
        "    try:\n",
        "        countries = [aff.split(\",\")[-1].strip() for aff in x.split(\";\")]\n",
        "        return ','.join(countries)\n",
        "    except Exception as ex:\n",
        "        print(x)\n",
        "\n",
        "# Apply the function to create a new column 'Author_Countries'\n",
        "data['Author_Countries'] = data['Authors with affiliations'].apply(get_first_author_affiliation)\n",
        "\n",
        "# Create a graph\n",
        "G = nx.Graph()\n",
        "\n",
        "# Iterate through the DataFrame\n",
        "for _, row in data.iterrows():\n",
        "    author_ids = row['Author(s) ID'].split(';')\n",
        "    countries = row['Author_Countries'].split(',')\n",
        "    names = row['Authors'].split(',')\n",
        "\n",
        "    for i, author_id in enumerate(author_ids):\n",
        "        if i < len(names) and i < len(countries):\n",
        "            if author_id not in G.nodes:\n",
        "                G.add_node(author_id,\n",
        "                           Name=names[i].strip(),\n",
        "                           country=countries[i],\n",
        "                           num_publications=0,\n",
        "                           num_citations=0,\n",
        "                           degree=0)\n",
        "            G.nodes[author_id]['num_publications'] += 1\n",
        "            G.nodes[author_id]['num_citations'] += row['Cited by']\n",
        "            G.nodes[author_id]['degree'] += len(author_ids) - 1\n",
        "\n",
        "# Add edges to the graph\n",
        "for _, row in data.iterrows():\n",
        "    if \";\" in row['Author(s) ID']:\n",
        "        authors = row['Author(s) ID'][:-1].split(\";\")\n",
        "        for i, author1 in enumerate(authors):\n",
        "            for j in range(i + 1, len(authors)):\n",
        "                G.add_edge(author1, authors[j])\n",
        "\n",
        "# Save the graph as a JSON file\n",
        "with open(\"publication_network.json\", 'w') as f:\n",
        "    json.dump(json_graph.node_link_data(G), f)\n",
        "\n",
        "# Save the graph as a GML file\n",
        "nx.write_gml(G, \"network.gml\")\n"
      ]
    },
    {
      "cell_type": "code",
      "execution_count": null,
      "metadata": {
        "id": "WIwXUi38TrUu"
      },
      "outputs": [],
      "source": []
    }
  ],
  "metadata": {
    "colab": {
      "provenance": []
    },
    "kernelspec": {
      "display_name": "Python 3",
      "name": "python3"
    },
    "language_info": {
      "codemirror_mode": {
        "name": "ipython",
        "version": 3
      },
      "file_extension": ".py",
      "mimetype": "text/x-python",
      "name": "python",
      "nbconvert_exporter": "python",
      "pygments_lexer": "ipython3",
      "version": "3.9.12"
    }
  },
  "nbformat": 4,
  "nbformat_minor": 0
}
